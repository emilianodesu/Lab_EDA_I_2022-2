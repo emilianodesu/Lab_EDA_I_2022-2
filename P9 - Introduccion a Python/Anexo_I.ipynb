{
 "cells": [
  {
   "cell_type": "markdown",
   "metadata": {
    "collapsed": true
   },
   "source": [
    "<img src=\"img/logo.png\" height=\"400\" width=\"400\">"
   ]
  },
  {
   "cell_type": "markdown",
   "metadata": {},
   "source": [
    "# Anexo I: *Uso de Numpy y Matplotlib*"
   ]
  },
  {
   "cell_type": "markdown",
   "metadata": {},
   "source": [
    "### Elaborado por:\n",
    "\n",
    "* M.C. Edgar E. García Cano\n",
    "* Ing. Jorge A. Solano Gálvez\n",
    "\n",
    "### Autorizado por:\n",
    "* M.C. Alejandro Velázquez Mena"
   ]
  },
  {
   "cell_type": "markdown",
   "metadata": {},
   "source": [
    "## Objetivo:"
   ]
  },
  {
   "cell_type": "markdown",
   "metadata": {},
   "source": [
    ">El objetivo de esta guía es usar las librerías numpy y matplotlib, dos de los paquetes de Python más utilizados en Ingeniería, Ciencias, Matemáticas, Análisis de Datos entre otros."
   ]
  },
  {
   "cell_type": "markdown",
   "metadata": {},
   "source": [
    "#### Repositorio de la guía:"
   ]
  },
  {
   "cell_type": "markdown",
   "metadata": {},
   "source": [
    ">Jupyter Notebook GitHub: [[ipynb](https://github.com/eegkno/FI_UNAM/blob/master/02_Estructuras_de_datos_y_algoritmos_1/Anexos/Anexo_I.ipynb)]<br>\n",
    ">Jupyter Notebook Visualizador: [[nbviewer](http://nbviewer.jupyter.org/github/eegkno/FI_UNAM/blob/master/02_Estructuras_de_datos_y_algoritmos_1/Anexos/Anexo_I.ipynb)]<br>"
   ]
  },
  {
   "cell_type": "code",
   "execution_count": 160,
   "metadata": {
    "collapsed": false
   },
   "outputs": [],
   "source": [
    "#Esta línea se utiliza para que las gráficas que se creen queden embebidas dentro de la notebook.\n",
    "%matplotlib inline  "
   ]
  },
  {
   "cell_type": "markdown",
   "metadata": {},
   "source": [
    "----"
   ]
  },
  {
   "cell_type": "markdown",
   "metadata": {},
   "source": [
    "### 1. Numpy (http://www.numpy.org/)"
   ]
  },
  {
   "cell_type": "markdown",
   "metadata": {},
   "source": [
    "Numpy es uno de los paquetes más populares de Python, es usado para realizar operaciones con vectores o matrices de una manera eficiente."
   ]
  },
  {
   "cell_type": "code",
   "execution_count": 161,
   "metadata": {
    "collapsed": true
   },
   "outputs": [],
   "source": [
    "#Los comentatios en Pytho empiezan con el signo #\n",
    "#Cargar módulo de numpy\n",
    "import numpy as np   "
   ]
  },
  {
   "cell_type": "markdown",
   "metadata": {},
   "source": [
    "#### 1.1 Creando vectores y matrices"
   ]
  },
  {
   "cell_type": "code",
   "execution_count": 162,
   "metadata": {
    "collapsed": true
   },
   "outputs": [],
   "source": [
    "vector = np.array([1,2,3,4,5,6])\n",
    "matriz = np.array([[1, 2], [3, 4], [5, 6]])"
   ]
  },
  {
   "cell_type": "markdown",
   "metadata": {},
   "source": [
    "> En Python no se tiene que indica el tipo de dato al que pertenece la variable."
   ]
  },
  {
   "cell_type": "code",
   "execution_count": 163,
   "metadata": {
    "collapsed": false
   },
   "outputs": [
    {
     "name": "stdout",
     "output_type": "stream",
     "text": [
      "[1 2 3 4 5 6]\n",
      "\n",
      "[[1 2]\n",
      " [3 4]\n",
      " [5 6]]\n",
      "\n",
      "Tamaño del vector (6,)\n",
      "Tamaño de la matriz (3, 2)\n"
     ]
    }
   ],
   "source": [
    "#imprimir contenido y tamaño del vector y la matriz\n",
    "print(vector)\n",
    "print()  #Línea vacía\n",
    "print(matriz)\n",
    "print()\n",
    "print(\"Tamaño del vector {}\".format(vector.shape))\n",
    "print(\"Tamaño de la matriz {}\".format(matriz.shape))\n"
   ]
  },
  {
   "cell_type": "code",
   "execution_count": 164,
   "metadata": {
    "collapsed": false
   },
   "outputs": [
    {
     "name": "stdout",
     "output_type": "stream",
     "text": [
      "El vector tiene 6 elementos\n",
      "La matriz es de 3,2 con un total de 6 elementos\n"
     ]
    }
   ],
   "source": [
    "#Los valores del tamaño del vector o matrices se pueden acceder de la siguiente manera\n",
    "\n",
    "v_elem = vector.size\n",
    "\n",
    "#Forma 1\n",
    "m_reng, m_column = matriz.shape\n",
    "\n",
    "#Forma 2\n",
    "m_reng = matriz.shape[0]\n",
    "m_column = matriz.shape[1]\n",
    "\n",
    "#Forma 3\n",
    "m_reng, m_column = matriz.shape[0], matriz.shape[1]\n",
    "\n",
    "\n",
    "print(\"El vector tiene {} elementos\".format(v_elem))\n",
    "print(\"La matriz es de {},{} con un total de {} elementos\".format(m_reng, m_column, matriz.size))\n"
   ]
  },
  {
   "cell_type": "markdown",
   "metadata": {},
   "source": [
    "> #La diferencia entre shape y size es que shape indica el número de renglones y columnas que componen al vector o matriz. Mientras size indica el total de elementos"
   ]
  },
  {
   "cell_type": "code",
   "execution_count": 165,
   "metadata": {
    "collapsed": false
   },
   "outputs": [],
   "source": [
    "#También se pueden crear vectores y matrices de la siguiente forma\n",
    "v_ceros = np.zeros(4)\n",
    "v_unos = np.ones(4)\n",
    "v_random = np.random.rand(8)    #Se generan números aleatorios\n",
    "\n",
    "m_ceros = np.zeros([4,3])\n",
    "m_unos = np.ones([4,5])\n",
    "m_random = np.random.rand(6,4) #Se generan números aleatorios\n"
   ]
  },
  {
   "cell_type": "code",
   "execution_count": 166,
   "metadata": {
    "collapsed": false
   },
   "outputs": [
    {
     "name": "stdout",
     "output_type": "stream",
     "text": [
      "Imprimiendo los vectores\n",
      "[0. 0. 0. 0.]\n",
      "[1. 1. 1. 1.]\n",
      "[0.01261034 0.31798093 0.40317013 0.677623   0.33039582 0.83793551\n",
      " 0.68473125 0.75209571]\n",
      "\n",
      "Imprimiendo las matrices\n",
      "[[0. 0. 0.]\n",
      " [0. 0. 0.]\n",
      " [0. 0. 0.]\n",
      " [0. 0. 0.]]\n",
      "[[1. 1. 1. 1. 1.]\n",
      " [1. 1. 1. 1. 1.]\n",
      " [1. 1. 1. 1. 1.]\n",
      " [1. 1. 1. 1. 1.]]\n",
      "[[0.54516341 0.24326271 0.43628929 0.94713851]\n",
      " [0.29884207 0.263812   0.78340808 0.40189705]\n",
      " [0.07868053 0.9097959  0.64271743 0.92030512]\n",
      " [0.65478133 0.46046578 0.08415948 0.50508727]\n",
      " [0.51464374 0.96587414 0.81819821 0.40304674]\n",
      " [0.10280267 0.24395155 0.4921861  0.84241486]]\n"
     ]
    }
   ],
   "source": [
    "print(\"Imprimiendo los vectores\")\n",
    "print(v_ceros)\n",
    "print(v_unos)\n",
    "print(v_random)\n",
    "print()\n",
    "print(\"Imprimiendo las matrices\")\n",
    "print(m_ceros)\n",
    "print(m_unos)\n",
    "print(m_random)"
   ]
  },
  {
   "cell_type": "markdown",
   "metadata": {},
   "source": [
    "#### 1.2 Accediendo a los elementos de los vectores y matrices"
   ]
  },
  {
   "cell_type": "code",
   "execution_count": 167,
   "metadata": {
    "collapsed": false
   },
   "outputs": [
    {
     "name": "stdout",
     "output_type": "stream",
     "text": [
      "0.31798092971795344\n",
      "0.6776229981260529\n"
     ]
    }
   ],
   "source": [
    "# Los índices de los vectores y matrices empiezan en cero\n",
    "print(v_random[1])\n",
    "print(v_random[3]) #El índice 3 no existe, por lo que marca un error al tratar de acceder a él\n"
   ]
  },
  {
   "cell_type": "markdown",
   "metadata": {},
   "source": [
    "#### 1.2.1 Renglones, columas y elementos"
   ]
  },
  {
   "cell_type": "code",
   "execution_count": 168,
   "metadata": {
    "collapsed": false
   },
   "outputs": [
    {
     "name": "stdout",
     "output_type": "stream",
     "text": [
      "Renglón 1 [0.29884207 0.263812   0.78340808 0.40189705]\n"
     ]
    }
   ],
   "source": [
    "#Los índices de las matrices están organizados de la forma [renglones, columnas]\n",
    "print(\"Renglón 1 {}\".format(m_random[1,:]))"
   ]
  },
  {
   "cell_type": "code",
   "execution_count": 169,
   "metadata": {
    "collapsed": false
   },
   "outputs": [
    {
     "name": "stdout",
     "output_type": "stream",
     "text": [
      "Columna 3 [0.94713851 0.40189705 0.92030512 0.50508727 0.40304674 0.84241486]\n"
     ]
    }
   ],
   "source": [
    "print(\"Columna 3 {}\".format(m_random[:,3]))"
   ]
  },
  {
   "cell_type": "markdown",
   "metadata": {},
   "source": [
    "print(\"Elemento (1,3) = {}\".format(m_random[1,3]))"
   ]
  },
  {
   "cell_type": "markdown",
   "metadata": {},
   "source": [
    "> Como se observa en los ejemplos anteriores, si se quiere acceder a todos los elementos de un reglón o columna en específico, se tiene que usar el operador \":\". Si sólo se necesita un elemento en particular, se indican los índices de renglón y colúmna de dicho elemento."
   ]
  },
  {
   "cell_type": "markdown",
   "metadata": {},
   "source": [
    "#### 1.2.2 Conjuntos de renglones"
   ]
  },
  {
   "cell_type": "code",
   "execution_count": 170,
   "metadata": {
    "collapsed": false
   },
   "outputs": [
    {
     "name": "stdout",
     "output_type": "stream",
     "text": [
      "Primero dos renglones [[0.54516341 0.24326271 0.43628929 0.94713851]\n",
      " [0.29884207 0.263812   0.78340808 0.40189705]]\n"
     ]
    }
   ],
   "source": [
    "print(\"Primero dos renglones {}\".format(m_random[:2]))"
   ]
  },
  {
   "cell_type": "code",
   "execution_count": 171,
   "metadata": {
    "collapsed": false
   },
   "outputs": [
    {
     "name": "stdout",
     "output_type": "stream",
     "text": [
      "Del renglón 3 en adelante [[0.65478133 0.46046578 0.08415948 0.50508727]\n",
      " [0.51464374 0.96587414 0.81819821 0.40304674]\n",
      " [0.10280267 0.24395155 0.4921861  0.84241486]]\n"
     ]
    }
   ],
   "source": [
    "print(\"Del renglón 3 en adelante {}\".format(m_random[3:]))"
   ]
  },
  {
   "cell_type": "code",
   "execution_count": 172,
   "metadata": {
    "collapsed": false
   },
   "outputs": [
    {
     "name": "stdout",
     "output_type": "stream",
     "text": [
      "Últimos dos renglones [[0.51464374 0.96587414 0.81819821 0.40304674]\n",
      " [0.10280267 0.24395155 0.4921861  0.84241486]]\n"
     ]
    }
   ],
   "source": [
    "print(\"Últimos dos renglones {}\".format(m_random[-2:]))"
   ]
  },
  {
   "cell_type": "markdown",
   "metadata": {},
   "source": [
    "#### 1.2.3 Subconjuntos"
   ]
  },
  {
   "cell_type": "code",
   "execution_count": 173,
   "metadata": {
    "collapsed": false
   },
   "outputs": [
    {
     "name": "stdout",
     "output_type": "stream",
     "text": [
      "Original: [0.01261034 0.31798093 0.40317013 0.677623   0.33039582 0.83793551\n",
      " 0.68473125 0.75209571]\n",
      "sub_1 del 3-5: [0.677623   0.33039582 0.83793551]\n",
      "sub_2: del 5-8 [0.83793551 0.68473125 0.75209571]\n"
     ]
    }
   ],
   "source": [
    "print(\"Original: {}\".format(v_random))\n",
    "#Se hace un sub-vector de 3 elementos empezando por el que está en el índice 3 y hasta el 5. \n",
    "#Como se observa, el primer índice la posición del primer elemento que se va a tomar, mientras que el segundo \n",
    "#índice indica que se va a tomar hasta el elemento anterior a ese índice.\n",
    "\n",
    "sub_v = v_random[3:6]\n",
    "print(\"sub_1 del 3-5: {}\".format(sub_v))\n",
    "\n",
    "sub_v2 = v_random[5:9]\n",
    "print(\"sub_2: del 5-8 {}\".format(sub_v2))"
   ]
  },
  {
   "cell_type": "code",
   "execution_count": 174,
   "metadata": {
    "collapsed": false
   },
   "outputs": [
    {
     "name": "stdout",
     "output_type": "stream",
     "text": [
      "Original\n",
      "[[0.54516341 0.24326271 0.43628929 0.94713851]\n",
      " [0.29884207 0.263812   0.78340808 0.40189705]\n",
      " [0.07868053 0.9097959  0.64271743 0.92030512]\n",
      " [0.65478133 0.46046578 0.08415948 0.50508727]\n",
      " [0.51464374 0.96587414 0.81819821 0.40304674]\n",
      " [0.10280267 0.24395155 0.4921861  0.84241486]]\n",
      "\n",
      " Sub-conjunto [1-2-3, 1-2]\n",
      "[[0.263812   0.78340808]\n",
      " [0.9097959  0.64271743]\n",
      " [0.46046578 0.08415948]]\n"
     ]
    }
   ],
   "source": [
    "print(\"Original\")\n",
    "print(m_random)\n",
    "print(\"\\n Sub-conjunto [1-2-3, 1-2]\")\n",
    "print(m_random[1:4,1:3])"
   ]
  },
  {
   "cell_type": "markdown",
   "metadata": {},
   "source": [
    "#### 1.2.4 Ciclos"
   ]
  },
  {
   "cell_type": "code",
   "execution_count": 175,
   "metadata": {
    "collapsed": false
   },
   "outputs": [
    {
     "name": "stdout",
     "output_type": "stream",
     "text": [
      "[0.54516341 0.24326271 0.43628929 0.94713851]\n",
      "0.5451634054195774\n",
      "0.2432627050963464\n",
      "0.4362892927126042\n",
      "0.9471385129632955\n",
      "[0.29884207 0.263812   0.78340808 0.40189705]\n",
      "0.29884207273561236\n",
      "0.26381200331536225\n",
      "0.7834080815051965\n",
      "0.4018970493691377\n",
      "[0.07868053 0.9097959  0.64271743 0.92030512]\n",
      "0.07868053379117734\n",
      "0.909795899717784\n",
      "0.6427174341099103\n",
      "0.9203051200581585\n",
      "[0.65478133 0.46046578 0.08415948 0.50508727]\n",
      "0.6547813259950539\n",
      "0.4604657784891758\n",
      "0.08415948010412744\n",
      "0.5050872675260575\n",
      "[0.51464374 0.96587414 0.81819821 0.40304674]\n",
      "0.5146437438215411\n",
      "0.9658741438158077\n",
      "0.818198213920737\n",
      "0.4030467446402406\n",
      "[0.10280267 0.24395155 0.4921861  0.84241486]\n",
      "0.10280266974424124\n",
      "0.24395154512285633\n",
      "0.49218609678116965\n",
      "0.8424148583655648\n"
     ]
    }
   ],
   "source": [
    "#Los arreglos y vectores también se pueden recorrer mediante ciclos\n",
    "#Recorriendo la matriz usando índices\n",
    "for i in range(0, m_random.shape[0]):\n",
    "    print(m_random[i,:]) #Se imprime el renlón completo\n",
    "    for j in range(0, m_random.shape[1]):\n",
    "        print(m_random[i,j]) #Se imprime el elemento de cada renglón"
   ]
  },
  {
   "cell_type": "markdown",
   "metadata": {},
   "source": [
    "#### 1.2 Guardar y cargar variables"
   ]
  },
  {
   "cell_type": "markdown",
   "metadata": {},
   "source": [
    "> Las variables que se van utilizando pueden ser guardadas en archivos para después cargarlas y volverlas a usar."
   ]
  },
  {
   "cell_type": "code",
   "execution_count": 176,
   "metadata": {
    "collapsed": false
   },
   "outputs": [
    {
     "name": "stdout",
     "output_type": "stream",
     "text": [
      "Original:\n",
      "[[0.54516341 0.24326271 0.43628929 0.94713851]\n",
      " [0.29884207 0.263812   0.78340808 0.40189705]\n",
      " [0.07868053 0.9097959  0.64271743 0.92030512]\n",
      " [0.65478133 0.46046578 0.08415948 0.50508727]\n",
      " [0.51464374 0.96587414 0.81819821 0.40304674]\n",
      " [0.10280267 0.24395155 0.4921861  0.84241486]]\n"
     ]
    }
   ],
   "source": [
    "print(\"Original:\")\n",
    "print(m_random)"
   ]
  },
  {
   "cell_type": "code",
   "execution_count": 177,
   "metadata": {
    "collapsed": false
   },
   "outputs": [],
   "source": [
    "#Guardando la matriz m_random en el archivo m_random.csv usando como delimitador ','\n",
    "np.savetxt(\"m_random.csv\",m_random, delimiter=\",\")"
   ]
  },
  {
   "cell_type": "code",
   "execution_count": 178,
   "metadata": {
    "collapsed": true
   },
   "outputs": [],
   "source": [
    "#Cargando la matriz guardada en m_random.csv\n",
    "m_load = np.loadtxt(\"m_random.csv\",delimiter=\",\")"
   ]
  },
  {
   "cell_type": "code",
   "execution_count": 179,
   "metadata": {
    "collapsed": false
   },
   "outputs": [
    {
     "name": "stdout",
     "output_type": "stream",
     "text": [
      "Matriz guardada y cargada:\n",
      "[[0.54516341 0.24326271 0.43628929 0.94713851]\n",
      " [0.29884207 0.263812   0.78340808 0.40189705]\n",
      " [0.07868053 0.9097959  0.64271743 0.92030512]\n",
      " [0.65478133 0.46046578 0.08415948 0.50508727]\n",
      " [0.51464374 0.96587414 0.81819821 0.40304674]\n",
      " [0.10280267 0.24395155 0.4921861  0.84241486]]\n"
     ]
    }
   ],
   "source": [
    "print(\"Matriz guardada y cargada:\")\n",
    "print(m_load)"
   ]
  },
  {
   "cell_type": "markdown",
   "metadata": {},
   "source": [
    "#### 1.3 Operaciones con matrices"
   ]
  },
  {
   "cell_type": "markdown",
   "metadata": {},
   "source": [
    "#### 1.3.1 Multiplicación de una matriz por un escalar"
   ]
  },
  {
   "cell_type": "code",
   "execution_count": 180,
   "metadata": {
    "collapsed": false
   },
   "outputs": [
    {
     "name": "stdout",
     "output_type": "stream",
     "text": [
      "[[9. 9. 9. 9. 9.]\n",
      " [9. 9. 9. 9. 9.]\n",
      " [9. 9. 9. 9. 9.]\n",
      " [9. 9. 9. 9. 9.]]\n"
     ]
    }
   ],
   "source": [
    "#Simplemente se multiplica la matriz por el escalar deseado\n",
    "resultado = m_unos * 9\n",
    "print(resultado)"
   ]
  },
  {
   "cell_type": "markdown",
   "metadata": {},
   "source": [
    "#### 1.3.2 Transpuesta "
   ]
  },
  {
   "cell_type": "code",
   "execution_count": 181,
   "metadata": {
    "collapsed": false
   },
   "outputs": [
    {
     "name": "stdout",
     "output_type": "stream",
     "text": [
      "[[9. 9. 9. 9.]\n",
      " [9. 9. 9. 9.]\n",
      " [9. 9. 9. 9.]\n",
      " [9. 9. 9. 9.]\n",
      " [9. 9. 9. 9.]]\n"
     ]
    }
   ],
   "source": [
    "#Para hacer la transpuesta de una matriz, sólo se utiliza el operador T a la matriz\n",
    "result_T = resultado.T\n",
    "print(result_T)"
   ]
  },
  {
   "cell_type": "markdown",
   "metadata": {},
   "source": [
    "#### 1.3.3 Multiplicación de matrices"
   ]
  },
  {
   "cell_type": "code",
   "execution_count": 182,
   "metadata": {
    "collapsed": false
   },
   "outputs": [
    {
     "name": "stdout",
     "output_type": "stream",
     "text": [
      "Índices de las matrices:\n",
      "(4, 5)\n",
      "(5, 4)\n",
      "\n",
      "Resultado de la multiplicación m_unos * result_T\n",
      "[[45. 45. 45. 45.]\n",
      " [45. 45. 45. 45.]\n",
      " [45. 45. 45. 45.]\n",
      " [45. 45. 45. 45.]]\n"
     ]
    }
   ],
   "source": [
    "#Para la multiplicación de matrices se necesitas que el índice las columnas de la primera matriz coincida \n",
    "#con el índice de renglones de la segunda matriz\n",
    "print(\"Índices de las matrices:\")\n",
    "print(m_unos.shape)\n",
    "print(result_T.shape)\n",
    "\n",
    "#Para realizar la operación se utiliza la función dot()\n",
    "print(\"\\nResultado de la multiplicación m_unos * result_T\")\n",
    "print(np.dot(m_unos, result_T))"
   ]
  },
  {
   "cell_type": "markdown",
   "metadata": {},
   "source": [
    "#### 1.3.4 Inversa de una matriz"
   ]
  },
  {
   "cell_type": "code",
   "execution_count": 183,
   "metadata": {
    "collapsed": false
   },
   "outputs": [
    {
     "data": {
      "text/plain": [
       "array([[-1.84775707, -1.30857748,  1.8585016 ,  0.51731423],\n",
       "       [ 2.83243138,  2.51527916, -0.67536302, -1.56892441],\n",
       "       [-3.61635847, -0.29478088,  0.56377777,  1.83234667],\n",
       "       [ 5.1863651 , -2.61252561, -1.89531395,  0.55732158]])"
      ]
     },
     "execution_count": 183,
     "metadata": {},
     "output_type": "execute_result"
    }
   ],
   "source": [
    "matriz2 = np.random.rand(4,4)\n",
    "\n",
    "#Para calcular la inversa de la matriz se utiliza la función inv() que está en un subpaquete de numpy llamado linalg\n",
    "np.linalg.inv(matriz2)"
   ]
  },
  {
   "cell_type": "markdown",
   "metadata": {},
   "source": [
    "> Hay un gran número de operaciones de álgebra lineal que se pueden realizar utilizando el paquete numpy, las cuales se pueden consultar en la siguiente página http://docs.scipy.org/doc/numpy-1.10.0/reference/routines.linalg.html"
   ]
  },
  {
   "cell_type": "markdown",
   "metadata": {},
   "source": [
    "----"
   ]
  },
  {
   "cell_type": "markdown",
   "metadata": {},
   "source": [
    "### 2. Matplotlib (http://matplotlib.org/)"
   ]
  },
  {
   "cell_type": "markdown",
   "metadata": {},
   "source": [
    "Esta librería es usada para generar gráficas en 2D y 3D, donde cada una de las configuraciones de la gráfica es programable. En los siguientes ejemplos se mostrará la configuración básica de una gráfica."
   ]
  },
  {
   "cell_type": "code",
   "execution_count": 184,
   "metadata": {
    "collapsed": false
   },
   "outputs": [],
   "source": [
    "#Esta línea se ocupa para que las gráficas que se generen queden embebidas dentro de la página\n",
    "%matplotlib inline"
   ]
  },
  {
   "cell_type": "code",
   "execution_count": 185,
   "metadata": {
    "collapsed": true
   },
   "outputs": [],
   "source": [
    "#Importando las librerías\n",
    "import matplotlib.pyplot as plt\n",
    "from mpl_toolkits.mplot3d import Axes3D"
   ]
  },
  {
   "cell_type": "code",
   "execution_count": 186,
   "metadata": {
    "collapsed": true
   },
   "outputs": [],
   "source": [
    "#Datos de entrada\n",
    "X = np.linspace(0, 5, 10) #Generando 10 puntos entre 0 y 5"
   ]
  },
  {
   "cell_type": "code",
   "execution_count": 187,
   "metadata": {
    "collapsed": false
   },
   "outputs": [
    {
     "data": {
      "image/png": "[encoded data removed]",
      "text/plain": [
       "<Figure size 640x480 with 1 Axes>"
      ]
     },
     "metadata": {},
     "output_type": "display_data"
    }
   ],
   "source": [
    "fig, ax = plt.subplots(facecolor='w', edgecolor='k')\n",
    "ax.plot(X, X**2, marker=\"o\",color=\"r\", linestyle='None')\n",
    "\n",
    "ax.grid(True)\n",
    "ax.set_xlabel('X')  #Etiqueta del eje x\n",
    "ax.set_ylabel('Y')  #Etiqueta del eje y\n",
    "ax.grid(True)\n",
    "ax.legend([\"y = x**2\"])\n",
    "\n",
    "plt.title('Puntos')\n",
    "plt.show()\n",
    "\n",
    "fig.savefig(\"gráfica.png\") #Guardando la gráfica"
   ]
  },
  {
   "cell_type": "code",
   "execution_count": 188,
   "metadata": {
    "collapsed": false
   },
   "outputs": [
    {
     "data": {
      "image/png": "[encoded data removed]",
      "text/plain": [
       "<Figure size 640x480 with 1 Axes>"
      ]
     },
     "metadata": {},
     "output_type": "display_data"
    }
   ],
   "source": [
    "fig, ax = plt.subplots()\n",
    "\n",
    "ax.plot(X, X**2, label=\"y = x**2\", marker=\"o\",color=\"r\")\n",
    "ax.plot(X, X**3, label=\"y = x**3\", marker=\"+\",color=\"b\")\n",
    "ax.set_xlabel('X')\n",
    "ax.set_ylabel('Y')\n",
    "ax.grid(True)\n",
    "ax.legend(loc=2); \n",
    "\n",
    "plt.title('Dos gráficas')\n",
    "plt.show()"
   ]
  },
  {
   "cell_type": "code",
   "execution_count": 189,
   "metadata": {
    "collapsed": false,
    "scrolled": true
   },
   "outputs": [
    {
     "data": {
      "image/png": "[encoded data removed]",
      "text/plain": [
       "<Figure size 640x480 with 2 Axes>"
      ]
     },
     "metadata": {},
     "output_type": "display_data"
    }
   ],
   "source": [
    "fig, ax = plt.subplots(nrows=1, ncols=2) #Se genera un renglón con dos columnas donde se generarán dos gráficas\n",
    "ax[0].plot(X, X**2, label=\"y = x**2\", marker=\"o\",color=\"r\")\n",
    "ax[0].set_xlabel('X')\n",
    "ax[0].set_ylabel('Y')\n",
    "ax[0].grid(True)\n",
    "ax[0].legend(loc=1); \n",
    "ax[0].set_title('Gráfica 1');\n",
    "\n",
    "ax[1].plot(X, X**3, label=\"y = x**3\", marker=\"o\",color=\"r\")\n",
    "ax[1].set_xlabel('X')\n",
    "ax[1].set_ylabel('Y')\n",
    "ax[1].grid(True)\n",
    "ax[1].legend(loc=2); \n",
    "ax[1].set_title('Gráfica 2');\n",
    "\n",
    "\n",
    "plt.show()"
   ]
  },
  {
   "cell_type": "markdown",
   "metadata": {},
   "source": [
    "----"
   ]
  },
  {
   "cell_type": "markdown",
   "metadata": {},
   "source": [
    "# Bibliografía\n"
   ]
  },
  {
   "cell_type": "markdown",
   "metadata": {},
   "source": [
    "[1] Galería de notebooks: https://wakari.io/gallery <br>\n",
    "[2] Numpy: http://www.numpy.org/ <br>\n",
    "[3] Matplotlib: http://matplotlib.org <br>\n",
    "[4] Markdown: https://guides.github.com/features/mastering-markdown"
   ]
  }
 ],
 "metadata": {
  "anaconda-cloud": {},
  "kernelspec": {
   "display_name": "Python 3",
   "language": "python",
   "name": "python3"
  },
  "language_info": {
   "codemirror_mode": {
    "name": "ipython",
    "version": 3
   },
   "file_extension": ".py",
   "mimetype": "text/x-python",
   "name": "python",
   "nbconvert_exporter": "python",
   "pygments_lexer": "ipython3",
   "version": "3.12.4"
  }
 },
 "nbformat": 4,
 "nbformat_minor": 0
}
