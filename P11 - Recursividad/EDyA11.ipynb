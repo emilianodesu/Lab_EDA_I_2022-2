{
 "cells": [
  {
   "cell_type": "markdown",
   "metadata": {},
   "source": [
    "<img src=\"img/logo.png\" height=\"400\" width=\"400\">"
   ]
  },
  {
   "cell_type": "markdown",
   "metadata": {},
   "source": [
    "# Guía práctica de estudio 12: *Recursividad*"
   ]
  },
  {
   "cell_type": "markdown",
   "metadata": {},
   "source": [
    "### Elaborado por:\n",
    "\n",
    "* M.C. Edgar E. García Cano\n",
    "* Ing. Jorge A. Solano Gálvez\n",
    "\n",
    "### Autorizado por:\n",
    "* M.C. Alejandro Velázquez Mena"
   ]
  },
  {
   "cell_type": "markdown",
   "metadata": {},
   "source": [
    "## Objetivo:"
   ]
  },
  {
   "cell_type": "markdown",
   "metadata": {},
   "source": [
    ">El objetivo de esta guía es aplicar el concepto de recursividad para la solución de problemas."
   ]
  },
  {
   "cell_type": "markdown",
   "metadata": {},
   "source": [
    "## Actividades:"
   ]
  },
  {
   "cell_type": "markdown",
   "metadata": {},
   "source": [
    "- Revisar el concepto las reglas de la recursividad y sus implicaciones.\n",
    "- Ejecutar programas guardados en archivos desde la notebook."
   ]
  },
  {
   "cell_type": "markdown",
   "metadata": {},
   "source": [
    "#### Repositorio de la guía:"
   ]
  },
  {
   "cell_type": "markdown",
   "metadata": {},
   "source": [
    ">Jupyter Notebook GitHub: [[ipynb](https://github.com/eegkno/FI_UNAM/blob/master/02_Estructuras_de_datos_y_algoritmos_1/P13/EDyA13.ipynb)]<br>\n",
    ">Jupyter Notebook Visualizador: [[nbviewer](http://nbviewer.jupyter.org/github/eegkno/FI_UNAM/blob/master/02_Estructuras_de_datos_y_algoritmos_1/P13/EDyA13.ipynb)]<br>"
   ]
  },
  {
   "cell_type": "markdown",
   "metadata": {},
   "source": [
    "<i class=\"fa fa-exclamation-triangle fa-2x\" aria-hidden=\"true\"></i> **Es sumamente importante respetar las indentaciones al momento de escribir código en Python. Se recomienda usar 4 espacios por nivel de indentación, los espacios son preferidos sobre el uso de tabuladores (https://www.python.org/dev/peps/pep-0008/#code-lay-out)**."
   ]
  },
  {
   "cell_type": "markdown",
   "metadata": {},
   "source": [
    "----"
   ]
  },
  {
   "cell_type": "markdown",
   "metadata": {},
   "source": [
    "# Recursividad"
   ]
  },
  {
   "cell_type": "markdown",
   "metadata": {},
   "source": [
    "El propósito de la recursividad es dividir un problema en problemas más pequeños, de tal manera que la solución del problema se vuelva trivial. Básicamente, la recursión se puede explicar como una función que se llama así misma."
   ]
  },
  {
   "cell_type": "markdown",
   "metadata": {},
   "source": [
    "Para aplica recursión se deben de cumplir tres reglas:\n",
    "1. Debe de haber uno o más casos base. \n",
    "2. La expansión debe terminar en un caso base.\n",
    "3. La función se debe llamar a sí misma."
   ]
  },
  {
   "cell_type": "markdown",
   "metadata": {},
   "source": [
    "----"
   ]
  },
  {
   "cell_type": "markdown",
   "metadata": {},
   "source": [
    "## Factorial"
   ]
  },
  {
   "cell_type": "markdown",
   "metadata": {},
   "source": [
    "Uno de los ejemplos más básicos es el cálculo del factorial cuya fórmula se muestra a continuación: $$n! = \\prod_{i=1}^n p_i = 1 \\times 2 \\times 3... \\times (n-1) \\times n $$\n",
    "\n"
   ]
  },
  {
   "cell_type": "markdown",
   "metadata": {},
   "source": [
    "**Tip:** En las notebooks se pueden agregar expresiones matemáticas usando Latex (https://latex-project.org/intro.html), tal y como se muestra en la formula anterior. La fórmula se tiene que encerrar usando $$ al principio y al final de la misma."
   ]
  },
  {
   "cell_type": "markdown",
   "metadata": {},
   "source": [
    "En el siguiente ejemplo se calcula el factorial de un número de forma iterativa usando un ciclo *for*"
   ]
  },
  {
   "cell_type": "code",
   "execution_count": 1,
   "metadata": {
    "collapsed": true
   },
   "outputs": [],
   "source": [
    "def factorial_no_recursivo(numero):\n",
    "    fact = 1\n",
    "    #Se genera una lista que ve de n a 1, el -1 indica que cada iteración se resta 1 al índice.\n",
    "    for i in range(numero, 1, -1): \n",
    "        fact *= i   # Esto es equivalente a fact = fact * i\n",
    "    return fact"
   ]
  },
  {
   "cell_type": "code",
   "execution_count": 2,
   "metadata": {},
   "outputs": [
    {
     "data": {
      "text/plain": [
       "120"
      ]
     },
     "execution_count": 2,
     "metadata": {},
     "output_type": "execute_result"
    }
   ],
   "source": [
    "factorial_no_recursivo(5)"
   ]
  },
  {
   "cell_type": "markdown",
   "metadata": {},
   "source": [
    "Como se mencionó anteriormente, para resolver un problema por medio de recursividad hay que generar problemas más pequeños. Analizando la forma en que se calcula el factorial en la función pasada se tiene que:\n",
    "\n",
    "$$5! = 5 \\times 4 \\times 3 \\times 2 \\times 1 $$\n",
    "\n",
    "Si se remueve el 5 se tiene:\n",
    "\n",
    "$$4! = 4 \\times 3 \\times 2 \\times 1 = 4 (4 - 1)! = 4 \\times (3!) $$\n",
    "\n",
    "Se puede afirmar que \n",
    "\n",
    "$$4 \\times 3! = 4 \\times [3 (3-1)! ] = 4 \\times 3 \\times (2!) $$\n",
    "\n",
    "Si se aplica esto a toda la secuencia, al final tenemos la siguiente expansión:\n",
    "\n",
    "$$5! = 5(4!) = 5 \\times 4 \\times (3!) = 5 \\times 4 \\times 3 \\times (2!) = 5 \\times 4 \\times 3 \\times 2 \\times (1!) =  5 \\times 4 \\times 3 \\times 2 \\times 1 \\times (0!) = 120$$"
   ]
  },
  {
   "cell_type": "markdown",
   "metadata": {},
   "source": [
    "Aplicando las reglas explicadas en un principio sobre recursividad, se puede resolver el problema del factorial por medio de recursión de la siguiente manera:"
   ]
  },
  {
   "cell_type": "code",
   "execution_count": 3,
   "metadata": {
    "collapsed": true
   },
   "outputs": [],
   "source": [
    "def factorial_recursivo(numero):\n",
    "    if numero < 2:    # El caso base es cuando numero < 2 y la función regresa 1\n",
    "        return 1\n",
    "    return numero * factorial_recursivo(numero - 1) # La función se llama a sí misma"
   ]
  },
  {
   "cell_type": "code",
   "execution_count": 4,
   "metadata": {},
   "outputs": [
    {
     "data": {
      "text/plain": [
       "120"
      ]
     },
     "execution_count": 4,
     "metadata": {},
     "output_type": "execute_result"
    }
   ],
   "source": [
    "factorial_recursivo(5)"
   ]
  },
  {
   "cell_type": "markdown",
   "metadata": {
    "collapsed": true
   },
   "source": [
    "De la ejecución de *factorial_recursivo()* se puede observar lo siguiente:\n",
    "* El caso base permite terminar la recursión. \n",
    "* Conforme se va decrementando la variable *numero*, se aproxima al caso base. El caso base ya no necesita recursión debido a que se convirtió en la versión más simple del problema.\n",
    "* La función se llama a sí misma y toma el lugar del ciclo *for* usado en la función *factorial_no_recursivo()*.\n",
    "* Cada que se llama de nuevo a la función, ésta tiene la copia de las variables locales y el valor de los parámetros."
   ]
  },
  {
   "cell_type": "markdown",
   "metadata": {},
   "source": [
    "**Tip:** En el caso de Python, hay un límite en el número de veces que se puede llamar recursivamente una función, si se excede ese límite se genera el error: *maximum recursion depth exceeded in comparison*. Este límite puede ser modificado, pero no es recomendable."
   ]
  },
  {
   "cell_type": "code",
   "execution_count": 5,
   "metadata": {
    "collapsed": true
   },
   "outputs": [],
   "source": [
    "#Al tratar de calcular el factorial de 1000 se excede el límite permitido de recursiones\n",
    "#factorial_recursivo(1000)"
   ]
  },
  {
   "cell_type": "markdown",
   "metadata": {},
   "source": [
    "----"
   ]
  },
  {
   "cell_type": "markdown",
   "metadata": {},
   "source": [
    "## Huellas de tortuga"
   ]
  },
  {
   "cell_type": "markdown",
   "metadata": {},
   "source": [
    "Para el siguiente ejemplo, se va a utilizar la biblioteca *turtle*. Como se observa en la siguiente imagen, hay una tortuga que se desplaza en espiral. Este ejemplo ha sido tomado del tutorial de la biblioteca *turtle* que se puede consultar en http://openbookproject.net/thinkcs/python/english3e/hello_little_turtles.html."
   ]
  },
  {
   "cell_type": "markdown",
   "metadata": {},
   "source": [
    "El objetivo es hacer que la tortuga deje un determinado número de huellas, cada una de las huellas se va a ir espaciando incrementalmente mientras ésta avanza. A contiuación se muestra la sección de código que hace el recorrido de la tortuga.<br>\n",
    "**NOTA:** La siguiente sección de código no se va a ejecutar en la notebook"
   ]
  },
  {
   "cell_type": "markdown",
   "metadata": {},
   "source": [
    "#Archivo: **recorrido_no_recursivo.py**\n",
    "```\n",
    "for i in range(30):         #Esta determinado que se impriman 30 huellas de la tortuga\n",
    "   tess.stamp()             # Huella de la tortuga\n",
    "   size = size + 3          # Se incrementa el paso de la tortuga cada iteración\n",
    "   tess.forward(size)       # Se mueve la tortuga hacia adelante\n",
    "   tess.right(24)           # y se gira a la derecha\n",
    "```"
   ]
  },
  {
   "cell_type": "markdown",
   "metadata": {},
   "source": [
    "<img src=\"img/recorrido.png\" height=\"600\" width=\"400\">"
   ]
  },
  {
   "cell_type": "markdown",
   "metadata": {},
   "source": [
    "¿Cómo hacer el recorrido de la tortuga de manera recursiva? Primero se tiene que encontrar el caso base y después hacer una función que se va llame a sí misma. En esta función, el caso base es cuando se ha completado el número de huellas requerido. A continuación, se muestra el código de la función para el recorrido de la tortuga. "
   ]
  },
  {
   "cell_type": "markdown",
   "metadata": {},
   "source": [
    "#Archivo: **recorrido_recursivo.py**\n",
    "```\n",
    "def recorrido_recursivo(tortuga, espacio, huellas):\n",
    "    if huellas > 0:\n",
    "        tortuga.stamp()\n",
    "        espacio = espacio + 3          \n",
    "        tortuga.forward(espacio)       \n",
    "        tortuga.right(24)  \n",
    "        recorrido_recursivo(tortuga, espacio, huellas-1)\n",
    "```        "
   ]
  },
  {
   "cell_type": "markdown",
   "metadata": {},
   "source": [
    "**NOTA:** El código completo de las dos versiones se encuentra guardado en los archivos *recorrido_recursivo.py* y *recorrido_no_recursivo.py*. Estos se van a ejecutar desde la notebook como si de una ventana de comandos se tratara."
   ]
  },
  {
   "cell_type": "markdown",
   "metadata": {},
   "source": [
    "**Tip:** En las notebooks se pueden ejecutar comandos del sistema operativo, sólo se tiene que agregar el signo de admiración antes del comando (**!comando**). Si el comando no es del sistema operativo, se despliega un aviso. "
   ]
  },
  {
   "cell_type": "markdown",
   "metadata": {},
   "source": [
    "Al momento de ejecutar las siguientes instrucciones, se abre una ventana donde se muestra el desplazamiento de la tortuga. Cuando se termina de ejecutar el código, es necesario cerrar la ventana para que finalice la ejecución en la notebook."
   ]
  },
  {
   "cell_type": "code",
   "execution_count": 6,
   "metadata": {
    "collapsed": true
   },
   "outputs": [],
   "source": [
    "#Ejecutando el código no recursivo.\n",
    "!python recorrido_no_recursivo.py "
   ]
  },
  {
   "cell_type": "markdown",
   "metadata": {},
   "source": [
    "**Tip:** Para la implementación recursiva (recorrido_recursivo.py) se hace uso de la biblioteca *argparse*, esta biblioteca permite mandar datos de entrada al programa por medio de banderas, tal y como se hace con los comandos del sistema operativo.\n",
    "```  \n",
    "ap = argparse.ArgumentParser()\n",
    "\n",
    "#El dato de entrada se ingresa con la bandera --huellas\n",
    "ap.add_argument(\"--huellas\", required=True, help=\"número de huellas\")\n",
    "\n",
    "#Lo que se obtiene es un diccionario (llave:valor) , en este caso llamado args\n",
    "args = vars(ap.parse_args())\n",
    "\n",
    "# Los valores del diccionario son cadenas por lo que se tiene que transformar a un entero con la función int()\n",
    "huellas = int(args[\"huellas\"])\n",
    "```  "
   ]
  },
  {
   "cell_type": "markdown",
   "metadata": {},
   "source": [
    "El código se ejecuta de la siguiente manera: "
   ]
  },
  {
   "cell_type": "code",
   "execution_count": 7,
   "metadata": {
    "collapsed": true
   },
   "outputs": [],
   "source": [
    "# Como se observa, hay un espacio después del nombre del archivo\n",
    "# y un espacio después de la bandera\n",
    "!python recorrido_recursivo.py --huellas 25"
   ]
  },
  {
   "cell_type": "markdown",
   "metadata": {},
   "source": [
    "La ventaja de utilizar esta forma de mandar datos de entrada al programa, es que hace la validación por nosotros, ya que si no se especifica la bandera o se especifica un valor, se genera un mensaje de error."
   ]
  },
  {
   "cell_type": "code",
   "execution_count": 8,
   "metadata": {
    "scrolled": false
   },
   "outputs": [
    {
     "name": "stderr",
     "output_type": "stream",
     "text": [
      "usage: recorrido_recursivo.py [-h] --huellas HUELLAS\n",
      "recorrido_recursivo.py: error: argument --huellas: expected one argument\n"
     ]
    }
   ],
   "source": [
    "!python recorrido_recursivo.py --huella"
   ]
  },
  {
   "cell_type": "markdown",
   "metadata": {},
   "source": [
    "----"
   ]
  },
  {
   "cell_type": "markdown",
   "metadata": {},
   "source": [
    "## Fibonacci "
   ]
  },
  {
   "cell_type": "markdown",
   "metadata": {},
   "source": [
    "Recordando, la implementación iterativa para calcular la sucesión de Fibonacci es:\n",
    "\n",
    "```\n",
    "def fibonacci_iterativo_v2(numero):\n",
    "    f1=0\n",
    "    f2=1\n",
    "    for i in range(1, numero-1):\n",
    "        f1,f2=f2,f1+f2    #Asignación paralela\n",
    "    return f2 \n",
    "\n",
    "```\n"
   ]
  },
  {
   "cell_type": "markdown",
   "metadata": {},
   "source": [
    "Esta función se puede transformar a su versión recursiva de la siguiente manera:"
   ]
  },
  {
   "cell_type": "code",
   "execution_count": 9,
   "metadata": {
    "collapsed": true
   },
   "outputs": [],
   "source": [
    "def fibonacci_recursivo(numero):\n",
    "    if numero == 1:     #Caso base \n",
    "        return 0\n",
    "    if numero == 2 or numero == 3:\n",
    "        return 1\n",
    "    return fibonacci_recursivo(numero-1) + fibonacci_recursivo(numero-2) #Llamada recursiva"
   ]
  },
  {
   "cell_type": "code",
   "execution_count": 10,
   "metadata": {},
   "outputs": [
    {
     "data": {
      "text/plain": [
       "144"
      ]
     },
     "execution_count": 10,
     "metadata": {},
     "output_type": "execute_result"
    }
   ],
   "source": [
    "fibonacci_recursivo(13)"
   ]
  },
  {
   "cell_type": "markdown",
   "metadata": {},
   "source": [
    "Al igual que en la versión iterativa, se están repitiendo operaciones. Para calcular el elemento 5 se tiene:\n",
    "```\n",
    "f(5) = \n",
    "    (n-1) = f(4)+f(3)+f(2)+f(1)\n",
    "    (n-2) = f(3)+f(2)+f(1)\n",
    "```\n"
   ]
  },
  {
   "cell_type": "markdown",
   "metadata": {},
   "source": [
    "Retomando lo visto en la práctica 11, es posible mejorar la eficiencia del algoritmo si se utiliza **memorización**."
   ]
  },
  {
   "cell_type": "code",
   "execution_count": 11,
   "metadata": {
    "collapsed": true
   },
   "outputs": [],
   "source": [
    "#Memoria inicial\n",
    "memoria = {1:0, 2:1, 3:1}"
   ]
  },
  {
   "cell_type": "code",
   "execution_count": 12,
   "metadata": {
    "collapsed": true
   },
   "outputs": [],
   "source": [
    "def fibonacci_memo(numero):\n",
    "    if numero in memoria:      #Si el número ya se encuentra calculado, se regresa el valor ya no se hacen más cálculos\n",
    "        return memoria[numero]\n",
    "    memoria[numero] = fibonacci_memo(numero-1) + fibonacci_memo(numero-2)\n",
    "    return memoria[numero]"
   ]
  },
  {
   "cell_type": "code",
   "execution_count": 13,
   "metadata": {},
   "outputs": [
    {
     "data": {
      "text/plain": [
       "144"
      ]
     },
     "execution_count": 13,
     "metadata": {},
     "output_type": "execute_result"
    }
   ],
   "source": [
    "fibonacci_memo(13)"
   ]
  },
  {
   "cell_type": "markdown",
   "metadata": {},
   "source": [
    "La memoria cambia después de la ejecución. En comparación con la versión iterativa de la guía 11, la función *fibonacci_memo()* tiene acceso a la variable *memoria*, por lo que efectua menos operaciones."
   ]
  },
  {
   "cell_type": "code",
   "execution_count": 14,
   "metadata": {},
   "outputs": [
    {
     "data": {
      "text/plain": [
       "{1: 0,\n",
       " 2: 1,\n",
       " 3: 1,\n",
       " 4: 2,\n",
       " 5: 3,\n",
       " 6: 5,\n",
       " 7: 8,\n",
       " 8: 13,\n",
       " 9: 21,\n",
       " 10: 34,\n",
       " 11: 55,\n",
       " 12: 89,\n",
       " 13: 144}"
      ]
     },
     "execution_count": 14,
     "metadata": {},
     "output_type": "execute_result"
    }
   ],
   "source": [
    "memoria"
   ]
  },
  {
   "cell_type": "markdown",
   "metadata": {},
   "source": [
    "A diferencia de la versión anterior, como los resultados se están guardando en la variable memoria, el número de operaciones que se realizan es menor. Para calcular el elemento 5 con la nueva implementación se tiene:\n",
    "\n",
    "```\n",
    "memoria = {1:0, 2:1, 3:1}\n",
    "\n",
    "f(5) = \n",
    "    (n-1) = f(4)+memoria(3)+memoria(2)+memoria(1)\n",
    "    (n-2) = memoria(3)\n",
    "```\n"
   ]
  },
  {
   "cell_type": "markdown",
   "metadata": {},
   "source": [
    "----"
   ]
  },
  {
   "cell_type": "markdown",
   "metadata": {},
   "source": [
    "## Desventajas de la recursividad"
   ]
  },
  {
   "cell_type": "markdown",
   "metadata": {},
   "source": [
    "1. A veces es complejo generar la lógica para aplicar recursión.\n",
    "2. Hay una limitación en el número de veces que una función puede ser llamada, tanto en memoria como en tiempo de ejecución."
   ]
  },
  {
   "cell_type": "markdown",
   "metadata": {},
   "source": [
    "----"
   ]
  },
  {
   "cell_type": "markdown",
   "metadata": {},
   "source": [
    "# Bibliografía"
   ]
  },
  {
   "cell_type": "markdown",
   "metadata": {},
   "source": [
    "[1] *Design and analysis of algorithms*; Prabhakar Gupta y Manish Varshney; PHI Learning, 2012, segunda edición.<br>\n",
    "[2] *Introduction to Algorithms*, Thomas H. Cormen, Charles E. Leiserson, Ronald L. Rivest y Clifford Stein; The MIT Press; 2009, tercera edicion.<br>\n",
    "[3] *Problem Solving with Algorithms and Data Structures using Python*; Bradley N. Miller y David L. Ranum, Franklin, Beedle & Associates; 2011, segunda edition.<br>\n",
    "[4] http://openbookproject.net/thinkcs/python/english3e/hello_little_turtles.html"
   ]
  }
 ],
 "metadata": {
  "anaconda-cloud": {},
  "kernelspec": {
   "display_name": "Python 3",
   "language": "python",
   "name": "python3"
  },
  "language_info": {
   "codemirror_mode": {
    "name": "ipython",
    "version": 3
   },
   "file_extension": ".py",
   "mimetype": "text/x-python",
   "name": "python",
   "nbconvert_exporter": "python",
   "pygments_lexer": "ipython3",
   "version": "3.12.4"
  }
 },
 "nbformat": 4,
 "nbformat_minor": 1
}
