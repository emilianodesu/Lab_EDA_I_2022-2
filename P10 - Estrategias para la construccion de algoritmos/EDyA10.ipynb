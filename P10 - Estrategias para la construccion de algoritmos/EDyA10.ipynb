{
 "cells": [
  {
   "cell_type": "markdown",
   "metadata": {},
   "source": [
    "<img src=\"img/logo.png\" height=\"400\" width=\"400\">"
   ]
  },
  {
   "cell_type": "markdown",
   "metadata": {},
   "source": [
    "# Guía práctica de estudio 11: <br>*Estrategias para la construcción de algoritmos*"
   ]
  },
  {
   "cell_type": "markdown",
   "metadata": {},
   "source": [
    "### Elaborado por:\n",
    "\n",
    "* M.C. Edgar E. García Cano\n",
    "* Ing. Jorge A. Solano Gálvez\n",
    "\n",
    "### Autorizado por:\n",
    "* M.C. Alejandro Velázquez Mena"
   ]
  },
  {
   "cell_type": "markdown",
   "metadata": {},
   "source": [
    "## Objetivo:"
   ]
  },
  {
   "cell_type": "markdown",
   "metadata": {},
   "source": [
    ">El objetivo de esta guía es implementar, al menos, dos enfoques de diseño (estrategias) de algoritmos y analizar las implicaciones de cada uno de ellos."
   ]
  },
  {
   "cell_type": "markdown",
   "metadata": {},
   "source": [
    "## Actividades:"
   ]
  },
  {
   "cell_type": "markdown",
   "metadata": {},
   "source": [
    "- Revisar el concepto y un ejemplo de diversas estrategias para construir algoritmos (fuerza bruta, algoritmo ávido, bottom-up, top-down, divide y vencerás, etc)."
   ]
  },
  {
   "cell_type": "markdown",
   "metadata": {},
   "source": [
    "## Conceptos a revisar en Python:"
   ]
  },
  {
   "cell_type": "markdown",
   "metadata": {},
   "source": [
    "- Escribir y leer en archivos.\n",
    "- Graficar funciones usando la biblioteca Matplotlib.\n",
    "- Generar listas de números aleatorios.\n",
    "- Medir y graficar tiempos de ejecución."
   ]
  },
  {
   "cell_type": "markdown",
   "metadata": {},
   "source": [
    "#### Repositorio de la guía:"
   ]
  },
  {
   "cell_type": "markdown",
   "metadata": {},
   "source": [
    ">Jupyter Notebook GitHub: [[ipynb](https://github.com/eegkno/FI_UNAM/blob/master/02_Estructuras_de_datos_y_algoritmos_1/P11/EDyA11_I.ipynb)]<br>\n",
    ">Jupyter Notebook Visualizador: [[nbviewer](http://nbviewer.jupyter.org/github/eegkno/FI_UNAM/blob/master/02_Estructuras_de_datos_y_algoritmos_1/P11/EDyA11_I.ipynb)]<br>"
   ]
  },
  {
   "cell_type": "markdown",
   "metadata": {},
   "source": [
    "<i class=\"fa fa-exclamation-triangle fa-2x\" aria-hidden=\"true\"></i> **Es sumamente importante respetar las indentaciones al momento de escribir código en Python. Se recomienda usar 4 espacios por nivel de indentación, los espacios son preferidos sobre el uso de tabuladores (https://www.python.org/dev/peps/pep-0008/#code-lay-out)**."
   ]
  },
  {
   "cell_type": "markdown",
   "metadata": {},
   "source": [
    "----"
   ]
  },
  {
   "cell_type": "markdown",
   "metadata": {
    "collapsed": true
   },
   "source": [
    "## Fuerza bruta"
   ]
  },
  {
   "cell_type": "markdown",
   "metadata": {},
   "source": [
    "El objetivo de resolver problemas por medio de fuerza es bruta es hacer una búsqueda exhaustiva de todas las posibilidades que lleven a la solución del problema. Un ejemplo de esto es encontrar una contraseña haciendo una combinación exhaustiva de caracteres alfanuméricos generando cadenas de cierta longitud. La desventaja de resolver problemas por medio de esta estrategia es el tiempo que toman."
   ]
  },
  {
   "cell_type": "markdown",
   "metadata": {},
   "source": [
    "A continuación se muestra una implementación de un buscador de contraseñas de entre 3 y 4 caracteres. Para este ejemplo se va a usar la biblioteca **string**, de ésta se van a importar los caracteres y dígitos.\n",
    "\n",
    "También se usa la biblioteca **itertools** (https://docs.python.org/3/library/itertools.html#). La biblioteca **itertools** tiene una función llamada **product()** (https://docs.python.org/3/library/itertools.html#itertools.product) la cual se va a utilizar para realizar las combinaciones en cadenas de 3 y cuatro caracteres."
   ]
  },
  {
   "cell_type": "markdown",
   "metadata": {},
   "source": [
    "Las diferentes combinaciones generadas por el algoritmo se van a guardar en un archivo. Para guardar datos en un archivo se utiliza la función **open()**, que es para tener una referencia del archivo que se quiere abrir (https://docs.python.org/3/tutorial/inputoutput.html#reading-and-writing-files). Con la referencia creada se utiliza la función **write()**, que recibe la cadena que se va a escribir en el archivo. Finalmente, una vez que se termina la escritura hacia el archivo, éste se cierra con la función **close()**."
   ]
  },
  {
   "cell_type": "code",
   "execution_count": 71,
   "metadata": {
    "collapsed": true
   },
   "outputs": [],
   "source": [
    "from string import ascii_letters , digits\n",
    "from itertools import product\n",
    "\n",
    "#Concatenar letas y dígitos en una sola cadena\n",
    "caracteres = ascii_letters+digits\n",
    "\n",
    "def buscador(con):\n",
    "    \n",
    "    #Archivo con todas las combinaciones generadas\n",
    "    archivo = open(\"combinaciones.txt\", \"w\")\n",
    "    \n",
    "    if 3<= len(con) <= 4:\n",
    "        for i in range(3,5):\n",
    "            for comb in product(caracteres, repeat = i):\n",
    "                #Se utiliza join() para concatenar los caracteres regresado por la función product().\n",
    "                #Como join necesita una cadena inicial para hacer la concatenación, se pone una cadena vacía\n",
    "                #al principio\n",
    "                prueba = \"\".join(comb)\n",
    "                #Escribiendo al archivo cada combinación generada\n",
    "                archivo.write( prueba + \"\\n\"  )\n",
    "                if  prueba == con:\n",
    "                    print('Tu contraseña es {}'.format(prueba))\n",
    "                    #Cerrando el archivo\n",
    "                    archivo.close()\n",
    "                    break\n",
    "    else:\n",
    "        print('Ingresa una contraseña que contenga de 3 a 4 caracteres')"
   ]
  },
  {
   "cell_type": "code",
   "execution_count": 72,
   "metadata": {
    "scrolled": true
   },
   "outputs": [
    {
     "name": "stdout",
     "output_type": "stream",
     "text": [
      "Tu contraseña es H0l4\n",
      "Tiempos de ejecución 5.018811\n"
     ]
    }
   ],
   "source": [
    "from time import time\n",
    "t0 = time() \n",
    "con = 'H0l4'\n",
    "buscador(con)\n",
    "print(\"Tiempos de ejecución {}\".format(round(time()-t0, 6)))"
   ]
  },
  {
   "cell_type": "markdown",
   "metadata": {},
   "source": [
    "----"
   ]
  },
  {
   "cell_type": "markdown",
   "metadata": {},
   "source": [
    "## Algoritmos ávidos (greedy)"
   ]
  },
  {
   "cell_type": "markdown",
   "metadata": {},
   "source": [
    "Esta estrategia se diferencía de fuerza bruta porque va tomando una serie de deciciones en un orden específico, una vez que se ha ejecutado esa decisión, ya no se vuelve a considerar. En comparación con fuerza bruta, ésta puede ser más rápidá; aunque una desventaja es que la solución que se obtiene, no siempre es la más óptima."
   ]
  },
  {
   "cell_type": "markdown",
   "metadata": {},
   "source": [
    "**Tip:** En el siguiente ejemplo se va a realizar una división entre enteros, para esto se va a ocupar el operando **//**. La diferencia entre utilizar **/** y **//** es que el primer operador realiza una operación de números flotantes y el segundo una operación de números enteros.\n",
    "```\n",
    "5/2 = 2.5\n",
    "5//2 = 2\n",
    "```"
   ]
  },
  {
   "cell_type": "markdown",
   "metadata": {},
   "source": [
    "A continuación se muestra la implementación del problema de cambio de monedas. El problema consiste en regresar el cambio de monedas, de cierta denominación,  usando el menor número de éstas. Este problema se resuelve escogiendo sucesivamente las monedas de mayor valor hasta que ya no se pueda seguir usándolas y cuando esto pasa, se utiliza la siguiente de mayor valor. La desventaje en esta solución es que si no se da la denominación de monedas en orden de mayor a menor, se resuelve el problema, pero no de una manera óptima."
   ]
  },
  {
   "cell_type": "code",
   "execution_count": 73,
   "metadata": {
    "collapsed": true
   },
   "outputs": [],
   "source": [
    "def cambio(cantidad, denominaciones):\n",
    "    resultado = []\n",
    "    while (cantidad > 0):\n",
    "        if (cantidad >= denominaciones[0]):\n",
    "            \n",
    "            num = cantidad // denominaciones[0]\n",
    "            cantidad = cantidad - (num * denominaciones[0])\n",
    "            resultado.append([denominaciones[0], num])\n",
    "        denominaciones = denominaciones[1:]  #Se va consumiendo la lista de denominaciones\n",
    "    return resultado"
   ]
  },
  {
   "cell_type": "code",
   "execution_count": 74,
   "metadata": {},
   "outputs": [
    {
     "name": "stdout",
     "output_type": "stream",
     "text": [
      "[[500, 2]]\n",
      "[[500, 1]]\n",
      "[[50, 6]]\n",
      "[[5, 40]]\n",
      "[[50, 1], [20, 2], [5, 1], [1, 3]]\n"
     ]
    }
   ],
   "source": [
    "#Pruebas del algoritmo\n",
    "print (cambio(1000, [500, 200, 100, 50, 20, 5, 1]))\n",
    "\n",
    "print (cambio(500, [500, 200, 100, 50, 20, 5, 1]))\n",
    "\n",
    "print (cambio(300, [50, 20, 5, 1]))\n",
    "\n",
    "print (cambio(200, [5]))\n",
    "\n",
    "print (cambio(98, [50, 20, 5, 1]))\n"
   ]
  },
  {
   "cell_type": "markdown",
   "metadata": {},
   "source": [
    "En el siguiente ejemplo no regresa la solución óptima, además, si no existiera la moneda de valor 1, la solución fallaría."
   ]
  },
  {
   "cell_type": "code",
   "execution_count": 75,
   "metadata": {},
   "outputs": [
    {
     "name": "stdout",
     "output_type": "stream",
     "text": [
      "[[5, 19], [1, 3]]\n"
     ]
    }
   ],
   "source": [
    "print (cambio(98, [5, 20, 1, 50]))"
   ]
  },
  {
   "cell_type": "markdown",
   "metadata": {},
   "source": [
    "----"
   ]
  },
  {
   "cell_type": "markdown",
   "metadata": {},
   "source": [
    "## Bottom-up (programación dinámica)"
   ]
  },
  {
   "cell_type": "markdown",
   "metadata": {},
   "source": [
    "El objetivo de esta estrategia es resolver un problema a partir de subproblemas que ya han sido resueltos. La solución final se forma a partir de la combinación de una o más soluciones que se guardan en una tabla, ésta previene que se vuelvan a calcular las soluciones."
   ]
  },
  {
   "cell_type": "markdown",
   "metadata": {},
   "source": [
    "Como ejemplo, se va a calcular el número *n* de la sucesión de Fibonacci.  La sucesión de Fibonacci es una sucesión infinita de números enteros cuyos primeros dos elementos son 0 y 1, los siguientes números son calculados por la suma de los dos anteriores.\n",
    "\n",
    "```\n",
    "0, 1, 1, 2, 3, 5, 8, 13, 21, 34, 55, 89, 144, ...\n",
    "```"
   ]
  },
  {
   "cell_type": "markdown",
   "metadata": {},
   "source": [
    "A continuación se presenta la implementación iterativa para calcular la sucesión de Fibonacci."
   ]
  },
  {
   "cell_type": "code",
   "execution_count": 76,
   "metadata": {
    "collapsed": true
   },
   "outputs": [],
   "source": [
    "def fibonacci_iterativo_v1(numero):\n",
    "    f1=0\n",
    "    f2=1\n",
    "    tmp=0\n",
    "    for i in range(1,numero-1):\n",
    "        tmp = f1+f2\n",
    "        f1=f2\n",
    "        f2=tmp\n",
    "    return f2"
   ]
  },
  {
   "cell_type": "code",
   "execution_count": 77,
   "metadata": {},
   "outputs": [
    {
     "data": {
      "text/plain": [
       "5"
      ]
     },
     "execution_count": 77,
     "metadata": {},
     "output_type": "execute_result"
    }
   ],
   "source": [
    "fibonacci_iterativo_v1(6)"
   ]
  },
  {
   "cell_type": "markdown",
   "metadata": {},
   "source": [
    "**Tip:** En Python se puede hacer una *asignación paralela*, esto va a servir para evitar tener la variable auxiliar *tmp*, tal y como se muestra a continuación."
   ]
  },
  {
   "cell_type": "code",
   "execution_count": 78,
   "metadata": {
    "collapsed": true
   },
   "outputs": [],
   "source": [
    "def fibonacci_iterativo_v2(numero):\n",
    "    f1=0\n",
    "    f2=1\n",
    "    for i in range(1, numero-1):\n",
    "        f1,f2=f2,f1+f2    #Asignación paralela\n",
    "    return f2     "
   ]
  },
  {
   "cell_type": "code",
   "execution_count": 79,
   "metadata": {},
   "outputs": [
    {
     "data": {
      "text/plain": [
       "5"
      ]
     },
     "execution_count": 79,
     "metadata": {},
     "output_type": "execute_result"
    }
   ],
   "source": [
    "fibonacci_iterativo_v2(6)"
   ]
  },
  {
   "cell_type": "markdown",
   "metadata": {},
   "source": [
    "Una vez que conocemos como calcular la sucesión de Fibonacci, ahora vamos a aplicar la estrategia **bottom-up**. Partimos del hecho de que ya tenemos las soluciones para: \n",
    "```\n",
    "f(0) = 0\n",
    "f(1) = 1\n",
    "f(2) = 1\n",
    "```\n",
    "\n",
    "Estas soluciones previas son almacenadas en la tabla de soluciones *f_parciales*.\n",
    "```\n",
    "f_parciales = [0, 1, 1]\n",
    "```"
   ]
  },
  {
   "cell_type": "code",
   "execution_count": 80,
   "metadata": {
    "collapsed": true
   },
   "outputs": [],
   "source": [
    "def fibonacci_bottom_up(numero):\n",
    "    f_parciales = [0, 1, 1]  #Esta es la lista que mantiene las soluciones previamente calculadas\n",
    "    while len(f_parciales) < numero:\n",
    "        f_parciales.append(f_parciales[-1] + f_parciales[-2])\n",
    "        print(f_parciales)\n",
    "    return f_parciales[numero-1]"
   ]
  },
  {
   "cell_type": "code",
   "execution_count": 81,
   "metadata": {
    "scrolled": true
   },
   "outputs": [
    {
     "name": "stdout",
     "output_type": "stream",
     "text": [
      "[0, 1, 1, 2]\n",
      "[0, 1, 1, 2, 3]\n"
     ]
    },
    {
     "data": {
      "text/plain": [
       "3"
      ]
     },
     "execution_count": 81,
     "metadata": {},
     "output_type": "execute_result"
    }
   ],
   "source": [
    "fibonacci_bottom_up(5)"
   ]
  },
  {
   "cell_type": "markdown",
   "metadata": {},
   "source": [
    "Como se observa en el resultado anterior, no se hace el cálculo de los primeros números, si no que se toman las soluciones ya existentes. La solución se encuentra calculando los resultaods desde los primeros números (casos base), hasta llegar a *n*, de abajo hacia arriba.\n",
    "\n",
    "```\n",
    "[0, 1, 1]         Datos iniciales\n",
    "[0, 1, 1, 2]      Primera iteración, se calcula n-1 = 1, y n - 2 = 1;\n",
    "[0, 1, 1, 2, 3]   Segunda iteración, se calcula n-1 = 2, y n - 2 = 1;\n",
    "\n",
    "```"
   ]
  },
  {
   "cell_type": "markdown",
   "metadata": {},
   "source": [
    "----"
   ]
  },
  {
   "cell_type": "markdown",
   "metadata": {},
   "source": [
    "## Top-down"
   ]
  },
  {
   "cell_type": "markdown",
   "metadata": {},
   "source": [
    "A diferencia de bottom-up, aquí se empiezan a hacer los cálculos de *n* hacia abajo. Además, se aplica una técnica llamada *memorización* la cual consiste en guardar los resultados previamente calculados, de tal manera que no se tengan que repetir operaciones."
   ]
  },
  {
   "cell_type": "markdown",
   "metadata": {},
   "source": [
    "Para aplicar la estrategia **top-down**, se utiliza un diccionario (*memoria*) el cual va a almacenar valores previamente calculados. Una vez que se realice el cálculo de algún elemento de la sucesión de Fibonacci, éste se va a almacenar ahí."
   ]
  },
  {
   "cell_type": "code",
   "execution_count": 82,
   "metadata": {
    "collapsed": true
   },
   "outputs": [],
   "source": [
    "#Memoria inicial\n",
    "memoria = {1:0, 2:1, 3:1}"
   ]
  },
  {
   "cell_type": "code",
   "execution_count": 83,
   "metadata": {
    "collapsed": true
   },
   "outputs": [],
   "source": [
    "def fibonacci_top_down(numero):\n",
    "    if numero in memoria:      #Si el número ya se encuentra calculado, se regresa el valor ya ya no se hacen más cálculos\n",
    "        return memoria[numero]\n",
    "    f = fibonacci_iterativo_v2(numero-1) + fibonacci_iterativo_v2(numero-2)\n",
    "    memoria[numero] = f\n",
    "    return memoria[numero]"
   ]
  },
  {
   "cell_type": "markdown",
   "metadata": {},
   "source": [
    "Como se muestra en el código anterior, para obtener *n*, se calculan *n-1* y *n-2* usando la versión iterativa. La deficiencia de este algoritmo es que hay cálculos que es están repitiendo. La ventaja, es que una vez que ya se calcularon, se guardan en\n",
    "una memoria, que en este caso es un diccionario; en dado caso de que se necesite un valor que ya ha sido calculado, sólo regresa y ya no se realizan los cálculos."
   ]
  },
  {
   "cell_type": "code",
   "execution_count": 84,
   "metadata": {},
   "outputs": [
    {
     "data": {
      "text/plain": [
       "89"
      ]
     },
     "execution_count": 84,
     "metadata": {},
     "output_type": "execute_result"
    }
   ],
   "source": [
    "fibonacci_top_down(12)"
   ]
  },
  {
   "cell_type": "code",
   "execution_count": 85,
   "metadata": {
    "scrolled": true
   },
   "outputs": [
    {
     "data": {
      "text/plain": [
       "{1: 0, 2: 1, 3: 1, 12: 89}"
      ]
     },
     "execution_count": 85,
     "metadata": {},
     "output_type": "execute_result"
    }
   ],
   "source": [
    "#Memoria después de obtener el elemento 12 de la sucesión de Fibonacci\n",
    "memoria"
   ]
  },
  {
   "cell_type": "code",
   "execution_count": 86,
   "metadata": {},
   "outputs": [
    {
     "data": {
      "text/plain": [
       "13"
      ]
     },
     "execution_count": 86,
     "metadata": {},
     "output_type": "execute_result"
    }
   ],
   "source": [
    "#Memoria después de obtener el elemento 8 de la sucesión de Fibonacci\n",
    "fibonacci_top_down(8)"
   ]
  },
  {
   "cell_type": "code",
   "execution_count": 87,
   "metadata": {},
   "outputs": [
    {
     "data": {
      "text/plain": [
       "{1: 0, 2: 1, 3: 1, 12: 89, 8: 13}"
      ]
     },
     "execution_count": 87,
     "metadata": {},
     "output_type": "execute_result"
    }
   ],
   "source": [
    "memoria"
   ]
  },
  {
   "cell_type": "markdown",
   "metadata": {},
   "source": [
    "Como se muestra en  la impresión de la variable *memoria*, que contiene los resultados previamente calculados, los nuevos valores obtenidos se agregaron a ésta. El problema con esta versión es que se siguen haciendo cálculos de más, ya que la función *fibonacci_iterativo_v2()* no tiene acceso a la variable memoria, lo que implica que tenemos que hacer modificaciones a la implementación. Por ejemplo, si se quiere calcular el elemento 5, se tiene que calcular (n-2) y (n-1), aunque algunos valores ya existen en la variable *memoria* no hay una manera de acceder a ellos.\n",
    "\n",
    "```\n",
    "f(5) = \n",
    "    (n-1) = f(4)+f(3)+f(2)+f(1)\n",
    "    (n-2) = f(3)+f(2)+f(1)\n",
    "```"
   ]
  },
  {
   "cell_type": "markdown",
   "metadata": {},
   "source": [
    "Ahora, se requiere que los valores ya calculados sean guardados en un archivo, de tal manera que se puedan utilizar en otro instante de tiempo. Para esto se va a hacer uso de la biblioteca pickle (https://docs.python.org/3.5/library/pickle.html). Los archivos que se generan con pickle están en binario, por lo que no se puede leer a simple vista la información que contienen, como se haría desde un archivo de texto plano."
   ]
  },
  {
   "cell_type": "code",
   "execution_count": 88,
   "metadata": {
    "collapsed": true
   },
   "outputs": [],
   "source": [
    "#Se carga la biblioteca\n",
    "import pickle\n",
    "\n",
    "#Guardar variable\n",
    "#No hay restricción en lo que se pone como extensión del archivo, \n",
    "#generalmente se usa .p o .pickle como estandar.\n",
    "archivo = open('memoria.p', 'wb')   #Se abre el archivo para escribir en modo binario\n",
    "pickle.dump(memoria, archivo)       #Se guarda la variable memoria que es un diccionario\n",
    "archivo.close()                     #Se cierra el archivo"
   ]
  },
  {
   "cell_type": "code",
   "execution_count": 89,
   "metadata": {
    "collapsed": true
   },
   "outputs": [],
   "source": [
    "#Leer variable\n",
    "archivo = open('memoria.p', 'rb')          #Se abre el archivo para leer en modo binario\n",
    "memoria_de_archivo = pickle.load(archivo)  #Se lee la variable\n",
    "archivo.close()                            #Se cierra el archivo"
   ]
  },
  {
   "cell_type": "markdown",
   "metadata": {},
   "source": [
    "Si no se realizó un cambio en *memoria*, ésta variable y *memoria_de_archivo* deben contener los mismos datos."
   ]
  },
  {
   "cell_type": "code",
   "execution_count": 90,
   "metadata": {},
   "outputs": [
    {
     "data": {
      "text/plain": [
       "{1: 0, 2: 1, 3: 1, 12: 89, 8: 13}"
      ]
     },
     "execution_count": 90,
     "metadata": {},
     "output_type": "execute_result"
    }
   ],
   "source": [
    "memoria"
   ]
  },
  {
   "cell_type": "code",
   "execution_count": 91,
   "metadata": {},
   "outputs": [
    {
     "data": {
      "text/plain": [
       "{1: 0, 2: 1, 3: 1, 12: 89, 8: 13}"
      ]
     },
     "execution_count": 91,
     "metadata": {},
     "output_type": "execute_result"
    }
   ],
   "source": [
    "memoria_de_archivo"
   ]
  },
  {
   "cell_type": "markdown",
   "metadata": {},
   "source": [
    "----"
   ]
  },
  {
   "cell_type": "markdown",
   "metadata": {},
   "source": [
    "## Incremental"
   ]
  },
  {
   "cell_type": "markdown",
   "metadata": {},
   "source": [
    "Es una estrategia que consiste en implementar y probar que sea correcto de manera paulatina, ya que en cada iteración se va agregando información hasta completar la tarea."
   ]
  },
  {
   "cell_type": "markdown",
   "metadata": {},
   "source": [
    "**Insertion sort**\n",
    "\n",
    "Insertion sort ordena los elementos manteniendo una sublista de números ordenados empezando por las primeras localidades de la lista. Al principio se considera que el elemento en la primera posición de la lista está ordenado. Después cada uno de los elementos de la lista se compara con la sublista ordenada para encontrar la posición adecuada. La Figura 1 muestra la secuencia de cómo se ordena un elemento de la lista."
   ]
  },
  {
   "cell_type": "markdown",
   "metadata": {},
   "source": [
    "**Tip:** Las imágenes pueden ser agregadas usando etiquetas de HTML."
   ]
  },
  {
   "cell_type": "markdown",
   "metadata": {},
   "source": [
    "<img src=\"img/Figura1.png\" height=\"800\" width=\"600\">"
   ]
  },
  {
   "cell_type": "code",
   "execution_count": 92,
   "metadata": {
    "collapsed": true
   },
   "outputs": [],
   "source": [
    "def insertionSort(n_lista):\n",
    "    for index in range(1,len(n_lista)):\n",
    "        actual = n_lista[index]\n",
    "        posicion = index\n",
    "        print(\"valor a ordenar = {}\".format(actual))\n",
    "        while posicion>0 and n_lista[posicion-1]>actual:\n",
    "            n_lista[posicion]=n_lista[posicion-1]\n",
    "            posicion = posicion-1           \n",
    "        n_lista[posicion]=actual\n",
    "        print(n_lista)\n",
    "        print() \n",
    "    return n_lista"
   ]
  },
  {
   "cell_type": "code",
   "execution_count": 93,
   "metadata": {},
   "outputs": [
    {
     "name": "stdout",
     "output_type": "stream",
     "text": [
      "lista desordenada [21, 10, 0, 11, 9, 24, 20, 14, 1]\n",
      "valor a ordenar = 10\n",
      "[10, 21, 0, 11, 9, 24, 20, 14, 1]\n",
      "\n",
      "valor a ordenar = 0\n",
      "[0, 10, 21, 11, 9, 24, 20, 14, 1]\n",
      "\n",
      "valor a ordenar = 11\n",
      "[0, 10, 11, 21, 9, 24, 20, 14, 1]\n",
      "\n",
      "valor a ordenar = 9\n",
      "[0, 9, 10, 11, 21, 24, 20, 14, 1]\n",
      "\n",
      "valor a ordenar = 24\n",
      "[0, 9, 10, 11, 21, 24, 20, 14, 1]\n",
      "\n",
      "valor a ordenar = 20\n",
      "[0, 9, 10, 11, 20, 21, 24, 14, 1]\n",
      "\n",
      "valor a ordenar = 14\n",
      "[0, 9, 10, 11, 14, 20, 21, 24, 1]\n",
      "\n",
      "valor a ordenar = 1\n",
      "[0, 1, 9, 10, 11, 14, 20, 21, 24]\n",
      "\n",
      "lista ordenada [0, 1, 9, 10, 11, 14, 20, 21, 24]\n"
     ]
    }
   ],
   "source": [
    "# Datos de entrada\n",
    "lista = [21, 10, 0, 11, 9, 24, 20, 14, 1]\n",
    "print(\"lista desordenada {}\".format(lista))\n",
    "insertionSort(lista)\n",
    "print(\"lista ordenada {}\".format(lista))"
   ]
  },
  {
   "cell_type": "markdown",
   "metadata": {},
   "source": [
    "----"
   ]
  },
  {
   "cell_type": "markdown",
   "metadata": {},
   "source": [
    "## Divide y vencerás"
   ]
  },
  {
   "cell_type": "markdown",
   "metadata": {},
   "source": [
    "Es una estrategia que consiste en:\n",
    "\n",
    "- Dividir el problema en subproblemas hasta que son suficientemente simples que se pueden resolver directamente.\n",
    "- Después las soluciones son combinadas para generar la solución general del problema."
   ]
  },
  {
   "cell_type": "markdown",
   "metadata": {},
   "source": [
    "**Quick sort**\n",
    "\n",
    "Quicksort es un ejemplo de resolver un problema por medio de la estrategia divide y vencerás. En Quicksort se divide en dos el arreglo que va a ser ordenado y se llama recursivamente para ordenar las divisiones. La parte más importante en Quicksort es la partición de los datos. Lo primero que se necesita es escoger un valor de pivote el cual está encargado de ayudar con la partición de los datos. El objetivo de dividir los datos es mover los que se encuentran en una posición incorrecta con respecto al pivote. La siguiente figura muestra un ejemplo de cómo se ordena una lista."
   ]
  },
  {
   "cell_type": "markdown",
   "metadata": {},
   "source": [
    "<img src=\"img/Figura2.png\" height=\"800\" width=\"600\">"
   ]
  },
  {
   "cell_type": "code",
   "execution_count": 94,
   "metadata": {
    "collapsed": true
   },
   "outputs": [],
   "source": [
    "def quicksort(lista):\n",
    "    quicksort_aux(lista,0,len(lista)-1)\n",
    "\n",
    "def quicksort_aux(lista,inicio, fin):\n",
    "    if inicio < fin:\n",
    "\n",
    "        pivote = particion(lista,inicio,fin)\n",
    "\n",
    "        quicksort_aux(lista, inicio, pivote-1)\n",
    "        quicksort_aux(lista, pivote+1, fin)"
   ]
  },
  {
   "cell_type": "code",
   "execution_count": 95,
   "metadata": {
    "collapsed": true
   },
   "outputs": [],
   "source": [
    "def particion(lista, inicio, fin):\n",
    "    #Se asigna como pivote en número de la primera localidad\n",
    "    pivote = lista[inicio]\n",
    "    print(\"Valor del pivote {}\".format(pivote))\n",
    "    #Se crean dos marcadores \n",
    "    izquierda = inicio+1\n",
    "    derecha = fin\n",
    "    print(\"Índice izquierdo {}\".format(izquierda))\n",
    "    print(\"Índice derecho {}\".format(derecha))\n",
    "\n",
    "    \n",
    "    bandera = False\n",
    "    while not bandera:\n",
    "        while izquierda <= derecha and lista[izquierda] <= pivote:\n",
    "            izquierda = izquierda + 1\n",
    "        while lista[derecha] >= pivote and derecha >=izquierda:\n",
    "            derecha = derecha -1\n",
    "        if derecha < izquierda:\n",
    "            bandera= True\n",
    "        else:\n",
    "            temp=lista[izquierda]\n",
    "            lista[izquierda]=lista[derecha]\n",
    "            lista[derecha]=temp\n",
    "            \n",
    "    print(lista)\n",
    "\n",
    "\n",
    "    temp=lista[inicio]\n",
    "    lista[inicio]=lista[derecha]\n",
    "    lista[derecha]=temp\n",
    "    return derecha"
   ]
  },
  {
   "cell_type": "code",
   "execution_count": 96,
   "metadata": {},
   "outputs": [
    {
     "name": "stdout",
     "output_type": "stream",
     "text": [
      "lista desordenada [21, 10, 0, 11, 9, 24, 20, 14, 1]\n",
      "Valor del pivote 21\n",
      "Índice izquierdo 1\n",
      "Índice derecho 8\n",
      "[21, 10, 0, 11, 9, 1, 20, 14, 24]\n",
      "Valor del pivote 14\n",
      "Índice izquierdo 1\n",
      "Índice derecho 6\n",
      "[14, 10, 0, 11, 9, 1, 20, 21, 24]\n",
      "Valor del pivote 1\n",
      "Índice izquierdo 1\n",
      "Índice derecho 4\n",
      "[1, 0, 10, 11, 9, 14, 20, 21, 24]\n",
      "Valor del pivote 10\n",
      "Índice izquierdo 3\n",
      "Índice derecho 4\n",
      "[0, 1, 10, 9, 11, 14, 20, 21, 24]\n",
      "lista ordenada [0, 1, 9, 10, 11, 14, 20, 21, 24]\n"
     ]
    }
   ],
   "source": [
    "lista = [21, 10, 0, 11, 9, 24, 20, 14, 1]\n",
    "print(\"lista desordenada {}\".format(lista))\n",
    "quicksort(lista)\n",
    "print(\"lista ordenada {}\".format(lista))"
   ]
  },
  {
   "cell_type": "markdown",
   "metadata": {},
   "source": [
    "----"
   ]
  },
  {
   "cell_type": "markdown",
   "metadata": {},
   "source": [
    "## Medición y gráficas de los tiempos de ejecución"
   ]
  },
  {
   "cell_type": "code",
   "execution_count": 97,
   "metadata": {},
   "outputs": [],
   "source": [
    "# Importando bibliotecas\n",
    "%matplotlib inline\n",
    "import matplotlib.pyplot as plt\n",
    "from mpl_toolkits.mplot3d import Axes3D"
   ]
  },
  {
   "cell_type": "markdown",
   "metadata": {},
   "source": [
    "**Tip:** Las funciones en Python pueden ser guardadas en archivos individuales (*insertionSort.py*) o varias en un sólo archivo (*quickSort.py*). En el siguiente ejemplo, se agrego **_time** al nombre de la función en los archivos.\n",
    "\n",
    "**Tip:** En dado caso de que se quiera llamar más funciones que estén en un mismo archivo se pueden escribir los nombres de las funciones separados por nombres: *from file_name import función1, función2, función3*"
   ]
  },
  {
   "cell_type": "code",
   "execution_count": 98,
   "metadata": {
    "collapsed": true
   },
   "outputs": [],
   "source": [
    "#Cargando módulos\n",
    "import random\n",
    "from time import time\n",
    "\n",
    "#Cargando las funciones guardadas en los archivo\n",
    "from insertionSort import insertionSort_time\n",
    "#Sólo se necesita llamar a la función principal\n",
    "from quickSort import quicksort_time"
   ]
  },
  {
   "cell_type": "code",
   "execution_count": 99,
   "metadata": {
    "collapsed": true
   },
   "outputs": [],
   "source": [
    "#Tamaños de la lista de números aleatorios a generar\n",
    "datos = [ii*100 for ii in range(1,21)] \n",
    "\n",
    "tiempo_is = []  #Lista para guardar el tiempo de ejecución de insert sort\n",
    "tiempo_qs = []  #Lista para guardar el tiempo de ejecución de quick sort\n",
    "\n",
    "for ii in datos:\n",
    "    lista_is = random.sample(range(0, 10000000), ii)\n",
    "    #Se hace una copia de la lista para que se ejecute el algoritmo con los mismo números\n",
    "    lista_qs = lista_is.copy() \n",
    "    \n",
    "    t0 = time()  #Se guarda el tiempo inicial\n",
    "    insertionSort_time(lista_is)\n",
    "    tiempo_is.append(round(time()-t0, 6))   #Se le resta al tiempo actual, el tiempo inicial\n",
    "    \n",
    "    t0 = time()    \n",
    "    quicksort_time(lista_qs)\n",
    "    tiempo_qs.append(round(time()-t0, 6))"
   ]
  },
  {
   "cell_type": "markdown",
   "metadata": {},
   "source": [
    "**NOTA:** La función *time()* regresa el tiemo en segundos (https://docs.python.org/3/library/time.html#time.time)."
   ]
  },
  {
   "cell_type": "code",
   "execution_count": 100,
   "metadata": {},
   "outputs": [
    {
     "name": "stdout",
     "output_type": "stream",
     "text": [
      "Tiempos parciales de ejecución en INSERT SORT [np.float64(0.000995), np.float64(0.0), np.float64(0.001), np.float64(0.005089), np.float64(0.004991), np.float64(0.009431), np.float64(0.011321), np.float64(0.01603), np.float64(0.018491), np.float64(0.01808), np.float64(0.02556), np.float64(0.046094), np.float64(0.043173), np.float64(0.039891), np.float64(0.060155), np.float64(0.054918), np.float64(0.056849), np.float64(0.058399), np.float64(0.070174), np.float64(0.080301)] [s] \n",
      "\n",
      "Tiempos parciales de ejecución en QUICK SORT [np.float64(0.0), np.float64(0.000998), np.float64(0.0), np.float64(0.0), np.float64(0.000998), np.float64(0.0), np.float64(0.001007), np.float64(0.0), np.float64(0.001001), np.float64(0.0), np.float64(0.000576), np.float64(0.001416), np.float64(0.0), np.float64(0.0), np.float64(0.0), np.float64(0.0), np.float64(0.0), np.float64(0.004496), np.float64(0.005101), np.float64(0.002617)] [s]\n"
     ]
    }
   ],
   "source": [
    "# Se imprimen los tiempos parciales de ejecución\n",
    "print(\"Tiempos parciales de ejecución en INSERT SORT {} [s] \\n\".format(tiempo_is))\n",
    "print(\"Tiempos parciales de ejecución en QUICK SORT {} [s]\".format(tiempo_qs))"
   ]
  },
  {
   "cell_type": "code",
   "execution_count": 101,
   "metadata": {},
   "outputs": [
    {
     "name": "stdout",
     "output_type": "stream",
     "text": [
      "Tiempo total de ejecución en insert sort 0.6209419999999999 [s]\n",
      "Tiempo total de ejecución en quick sort 0.01821 [s]\n"
     ]
    }
   ],
   "source": [
    "# Se imprimen los tiempos totales de ejecución\n",
    "# Para calcular el tiempo total se aplica la función sum() a las listas de tiempo\n",
    "print(\"Tiempo total de ejecución en insert sort {} [s]\".format(sum(tiempo_is)))\n",
    "print(\"Tiempo total de ejecución en quick sort {} [s]\".format(sum(tiempo_qs)))"
   ]
  },
  {
   "cell_type": "code",
   "execution_count": 102,
   "metadata": {},
   "outputs": [
    {
     "data": {
      "image/png": "[encoded data removed]",
      "text/plain": [
       "<Figure size 640x480 with 1 Axes>"
      ]
     },
     "metadata": {},
     "output_type": "display_data"
    }
   ],
   "source": [
    "#Generando la gráfica\n",
    "fig, ax = subplots()\n",
    "ax.plot(datos, tiempo_is, label=\"insert sort\", marker=\"*\",color=\"r\")\n",
    "ax.plot(datos, tiempo_qs, label=\"quick sort\", marker=\"o\",color=\"b\")\n",
    "ax.set_xlabel('Datos') \n",
    "ax.set_ylabel('Tiempo') \n",
    "ax.grid(True)\n",
    "ax.legend(loc=2); \n",
    "\n",
    "plt.title('Tiempo de ejecución [s] (insert vs. quick)')\n",
    "plt.show()"
   ]
  },
  {
   "cell_type": "markdown",
   "metadata": {},
   "source": [
    "## Modelo RAM\n",
    "\n",
    "Cuando se realiza un análisis de complejidad utilzando el modelo RAM, se debe contabilizar las veces que se ejecuta una función o un ciclo, en lugar de medir el tiempo de ejecución."
   ]
  },
  {
   "cell_type": "code",
   "execution_count": 103,
   "metadata": {
    "collapsed": true
   },
   "outputs": [],
   "source": [
    "import matplotlib.pyplot as plt\n",
    "from mpl_toolkits.mplot3d import Axes3D\n",
    "\n",
    "times = 0\n",
    "\n",
    "def insertionSort_graph(n_lista):\n",
    "    global times\n",
    "    for index in range(1,len(n_lista)):\n",
    "        times += 1\n",
    "        actual = n_lista[index]\n",
    "        posicion = index\n",
    "        while posicion>0 and n_lista[posicion-1]>actual:\n",
    "            times += 1\n",
    "            n_lista[posicion]=n_lista[posicion-1]\n",
    "            posicion = posicion-1           \n",
    "        n_lista[posicion]=actual\n",
    "    return n_lista"
   ]
  },
  {
   "cell_type": "code",
   "execution_count": 104,
   "metadata": {
    "collapsed": true
   },
   "outputs": [],
   "source": [
    "TAM = 101\n",
    "eje_x = list(range(1,TAM,1))\n",
    "eje_y = []\n",
    "lista_variable = []\n",
    "\n",
    "for num in eje_x:\n",
    "    lista_variable = random.sample(range(0, 1000), num)\n",
    "    times = 0\n",
    "    lista_variable = insertionSort_graph(lista_variable)\n",
    "    eje_y.append(times)"
   ]
  },
  {
   "cell_type": "code",
   "execution_count": 105,
   "metadata": {},
   "outputs": [
    {
     "data": {
      "image/png": "[encoded data removed]",
      "text/plain": [
       "<Figure size 640x480 with 1 Axes>"
      ]
     },
     "metadata": {},
     "output_type": "display_data"
    }
   ],
   "source": [
    "fig, ax = plt.subplots(facecolor='w', edgecolor='k')\n",
    "ax.plot(eje_x, eje_y, marker=\"o\",color=\"b\", linestyle='None')\n",
    "\n",
    "ax.set_xlabel('x')\n",
    "ax.set_ylabel('y')\n",
    "ax.grid(True)\n",
    "ax.legend([\"Insertion sort\"])\n",
    "\n",
    "plt.title('Insertion sort')\n",
    "plt.show()"
   ]
  },
  {
   "cell_type": "markdown",
   "metadata": {},
   "source": [
    "----"
   ]
  },
  {
   "cell_type": "markdown",
   "metadata": {},
   "source": [
    "# Bibliografía"
   ]
  },
  {
   "cell_type": "markdown",
   "metadata": {},
   "source": [
    "[1] *Design and analysis of algorithms*; Prabhakar Gupta y Manish Varshney; PHI Learning, 2012, segunda edición.<br>\n",
    "[2] *Introduction to Algorithms*, Thomas H. Cormen, Charles E. Leiserson, Ronald L. Rivest y Clifford Stein; The MIT Press; 2009, tercera edicion.<br>\n",
    "[3] *Problem Solving with Algorithms and Data Structures using Python*; Bradley N. Miller y David L. Ranum, Franklin, Beedle & Associates; 2011, segunda edition.<br>\n",
    "[4] https://docs.python.org/3/library/itertools.html#<br>\n",
    "[5] https://docs.python.org/3/library/itertools.html#itertools.product<br>\n",
    "[6] https://docs.python.org/3/tutorial/inputoutput.html#reading-and-writing-files<br>\n",
    "[7] https://docs.python.org/3.5/library/pickle.html"
   ]
  }
 ],
 "metadata": {
  "anaconda-cloud": {},
  "kernelspec": {
   "display_name": "Python 3",
   "language": "python",
   "name": "python3"
  },
  "language_info": {
   "codemirror_mode": {
    "name": "ipython",
    "version": 3
   },
   "file_extension": ".py",
   "mimetype": "text/x-python",
   "name": "python",
   "nbconvert_exporter": "python",
   "pygments_lexer": "ipython3",
   "version": "3.12.4"
  }
 },
 "nbformat": 4,
 "nbformat_minor": 1
}
